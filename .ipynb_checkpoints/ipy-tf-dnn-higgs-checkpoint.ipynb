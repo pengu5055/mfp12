{
 "cells": [
  {
   "cell_type": "code",
   "execution_count": 1,
   "metadata": {},
   "outputs": [
    {
     "name": "stdout",
     "output_type": "stream",
     "text": [
      "TensorFlow version  2.0.0\n",
      "TF Keras version  2.2.4-tf\n"
     ]
    }
   ],
   "source": [
    "import os,sys\n",
    "\n",
    "# pylint: disable=g-bad-import-order\n",
    "import numpy as np\n",
    "import pandas as pd\n",
    "import matplotlib.pyplot as plt\n",
    "from sklearn.model_selection import train_test_split\n",
    "from sklearn.metrics import roc_auc_score\n",
    "\n",
    "#some plotting routines\n",
    "import plotting\n",
    "\n",
    "# data processing\n",
    "import data_higgs as dh\n",
    "\n",
    "#import the working methods\n",
    "import tensorflow as tf\n",
    "print(\"TensorFlow version \",tf.__version__)\n",
    "\n",
    "from tensorflow import keras\n",
    "print(\"TF Keras version \",tf.keras.__version__)\n",
    "\n",
    "\n",
    "from tensorflow.keras import Sequential,Model\n",
    "from tensorflow.keras.layers import Dense\n",
    "from tensorflow.keras.utils import plot_model\n",
    "from tensorflow.keras.callbacks import EarlyStopping"
   ]
  },
  {
   "cell_type": "code",
   "execution_count": 2,
   "metadata": {},
   "outputs": [],
   "source": [
    "#--------- globals\n",
    "\n",
    "# Need to see a large portion of the data before we can build a layer, for\n",
    "# example half of data n_batches_per_layer =  NBATCH_FRAC * NUM_EXAMPLES / BATCH_SIZE\n",
    "BATCH_SIZE = 1000\n",
    "\n",
    "# Seed value\n",
    "# Apparently you may use different seed values at each stage\n",
    "SEED_VALUE= 10001\n",
    "# 1. Set `PYTHONHASHSEED` environment variable at a fixed value\n",
    "import os\n",
    "os.environ['PYTHONHASHSEED']=str(SEED_VALUE)\n",
    "# 2. Set `python` built-in pseudo-random generator at a fixed value\n",
    "import random\n",
    "random.seed(SEED_VALUE)\n",
    "# 3. Set `numpy` pseudo-random generator at a fixed value\n",
    "np.random.seed(SEED_VALUE)\n",
    "# 4. Set `tensorflow` pseudo-random generator at a fixed value\n",
    "tf.random.set_seed(SEED_VALUE)"
   ]
  },
  {
   "cell_type": "code",
   "execution_count": 3,
   "metadata": {},
   "outputs": [],
   "source": [
    "#-------- routines\n",
    "\n",
    "def split_xy(rawdata):\n",
    "    #split features and labels from data \n",
    "    #prepare the data => normalizations !   \n",
    "\n",
    "    # split \n",
    "    data_y=rawdata['hlabel'] # labels only: 0.=bkg, 1.=sig\n",
    "    data_x=rawdata.drop(['hlabel'], axis=1) # features only\n",
    "    \n",
    "    #now prepare the data\n",
    "    mu = data_x.mean()\n",
    "    s = data_x.std()\n",
    "    dmax = data_x.max()\n",
    "    dmin = data_x.min()\n",
    "\n",
    "    # normal/standard rescaling \n",
    "    #data_x = (data_x - mu)/s\n",
    "\n",
    "    # scaling to [-1,1] range\n",
    "    #data_x = -1. + 2.*(data_x - dmin)/(dmax-dmin)\n",
    "\n",
    "    # scaling to [0,1] range\n",
    "    data_x = (data_x - dmin)/(dmax-dmin)\n",
    "\n",
    "\n",
    "    return data_x,data_y"
   ]
  },
  {
   "cell_type": "code",
   "execution_count": 5,
   "metadata": {},
   "outputs": [],
   "source": [
    "def main():\n",
    "      # Training progress and eval results are shown as logging.INFO; so enables it.\n",
    " \n",
    "    #needs to be done once if the h5 files need to be recreated...\n",
    "    #dh.download_and_make_data()\n",
    "\n",
    "    hdata=dh.load_data()\n",
    "    data_fnames=hdata['feature_names'].to_numpy()[1:] #drop labels\n",
    "    n_dims=data_fnames.shape[0]\n",
    "    print (\"Entries read {} with feature names {}\".format(n_dims,data_fnames))\n",
    "\n",
    "    x_trn,y_trn=split_xy(hdata['train']) # training sample, should split a fraction for testing\n",
    "    x_train, x_test,y_train, y_test = train_test_split(x_trn,y_trn,test_size=0.1) # 10% split\n",
    "    x_val,y_val=split_xy(hdata['valid']) # independent cross-valid sample\n",
    "\n",
    "    print(\"Shapes train:{} and test:{}\".format(x_train.shape,x_test.shape))\n",
    "\n",
    "    #plot distributions\n",
    "    plotting.plot_sig_bkg_from_np_arrays(x_train.to_numpy(),y_train.to_numpy(),data_fnames,logy=False)\n",
    "\n",
    "    # ready the data for TF\n",
    "    ds_train = tf.data.Dataset.from_tensor_slices((x_train.to_numpy(),y_train.to_numpy()))\n",
    "    ds_train = ds_train.repeat()\n",
    "    ds_train = ds_train.batch(BATCH_SIZE,drop_remainder=True)\n",
    "\n",
    "    ds_test = tf.data.Dataset.from_tensor_slices((x_test.to_numpy(),y_test.to_numpy()))\n",
    "    ds_test = ds_test.repeat()\n",
    "    ds_test = ds_test.batch(BATCH_SIZE,drop_remainder=True)\n",
    "\n",
    "    train_steps=int(x_train.shape[0]/BATCH_SIZE)\n",
    "    test_steps=int(x_test.shape[0]/BATCH_SIZE)\n",
    "    print(\"Steps train:{} and test:{}\".format(train_steps,test_steps))\n",
    "    \n",
    "    # build a model - a DNN in TF 2.0 \n",
    "    dnn = Sequential()\n",
    "    dnn.add(Dense(50, input_dim=n_dims, activation='relu'))\n",
    "    dnn.add(Dense(50, input_dim=n_dims, activation='relu'))\n",
    "    dnn.add(Dense(1, activation='sigmoid')) # output layer/value\n",
    "    plot_model(dnn, to_file='dnn_model.png', show_shapes=True)\n",
    "\n",
    "    dnn.compile(optimizer=tf.keras.optimizers.Adam(),\n",
    "                loss='binary_crossentropy',\n",
    "                metrics=['accuracy', 'AUC', 'binary_crossentropy'])\n",
    "\n",
    "    dnn.summary()\n",
    "\n",
    "    #optional early stopping\n",
    "    eval_metric = 'AUC'\n",
    "    earlystop_callback = EarlyStopping(\n",
    "            mode='max',\n",
    "            monitor='val_' + eval_metric,\n",
    "            patience=5,\n",
    "            min_delta=0.00001,\n",
    "            verbose=1\n",
    "        )\n",
    "    \n",
    "    #run the training\n",
    "    dnn_model_history = dnn.fit(ds_train,\n",
    "            epochs=10,\n",
    "            steps_per_epoch=train_steps,\n",
    "            #callbacks=[earlystop_callback],\n",
    "            validation_data=ds_test,\n",
    "            validation_steps=test_steps\n",
    "        )\n",
    "\n",
    "    #plot training history\n",
    "    plotting.plot_history([('DNN model', dnn_model_history),],key='binary_crossentropy')\n",
    "    plotting.plot_history([('DNN model', dnn_model_history),],key='AUC')\n",
    "    plotting.plot_history([('DNN model', dnn_model_history),],key='accuracy')\n",
    "\n",
    "    #plot & print results like ROC and score distribution etc...\n",
    "    y_score=dnn.predict(x_val.to_numpy())[:,0]\n",
    "    plotting.plot_roc(y_val,y_score)\n",
    "    plotting.plot_score(y_val,y_score)\n",
    "    print()\n",
    "    auc=roc_auc_score(y_val,y_score)\n",
    "    print(\"AUC score: {}\".format(auc))\n"
   ]
  },
  {
   "cell_type": "code",
   "execution_count": 6,
   "metadata": {},
   "outputs": [
    {
     "name": "stdout",
     "output_type": "stream",
     "text": [
      "Loading /Users/borut/CERNBox/Predavanja/Ma-Fi-prakt/extras/mp_ML/src/new/data/higgs-parsed/higgs-parsed.h5...\n",
      "Loaded.\n",
      "Entries read 18 with feature names ['lepton-pT' 'lepton-eta' 'missing-energy' 'jet_1-pt' 'jet_1-eta'\n",
      " 'jet_2-pt' 'jet_2-eta' 'jet_3-pt' 'jet_3-eta' 'jet_4-pt' 'jet_4-eta'\n",
      " 'm_jj' 'm_jjj' 'm_lv' 'm_jlv' 'm_bb' 'm_wbb' 'm_wwbb']\n",
      "Shapes train:(360000, 18) and test:(40000, 18)\n",
      "Steps train:360 and test:40\n",
      "Model: \"sequential\"\n",
      "_________________________________________________________________\n",
      "Layer (type)                 Output Shape              Param #   \n",
      "=================================================================\n",
      "dense (Dense)                (None, 50)                950       \n",
      "_________________________________________________________________\n",
      "dense_1 (Dense)              (None, 50)                2550      \n",
      "_________________________________________________________________\n",
      "dense_2 (Dense)              (None, 1)                 51        \n",
      "=================================================================\n",
      "Total params: 3,551\n",
      "Trainable params: 3,551\n",
      "Non-trainable params: 0\n",
      "_________________________________________________________________\n",
      "Train for 360 steps, validate for 40 steps\n",
      "Epoch 1/10\n",
      "360/360 [==============================] - 3s 10ms/step - loss: 0.6571 - accuracy: 0.6039 - AUC: 0.6447 - binary_crossentropy: 0.6571 - val_loss: 0.6343 - val_accuracy: 0.6365 - val_AUC: 0.6867 - val_binary_crossentropy: 0.6343\n",
      "Epoch 2/10\n",
      "360/360 [==============================] - 2s 4ms/step - loss: 0.6313 - accuracy: 0.6389 - AUC: 0.6912 - binary_crossentropy: 0.6313 - val_loss: 0.6240 - val_accuracy: 0.6499 - val_AUC: 0.7046 - val_binary_crossentropy: 0.6240\n",
      "Epoch 3/10\n",
      "360/360 [==============================] - 2s 4ms/step - loss: 0.6224 - accuracy: 0.6520 - AUC: 0.7078 - binary_crossentropy: 0.6224 - val_loss: 0.6146 - val_accuracy: 0.6611 - val_AUC: 0.7202 - val_binary_crossentropy: 0.6146\n",
      "Epoch 4/10\n",
      "360/360 [==============================] - 2s 4ms/step - loss: 0.6125 - accuracy: 0.6641 - AUC: 0.7235 - binary_crossentropy: 0.6125 - val_loss: 0.6036 - val_accuracy: 0.6710 - val_AUC: 0.7363 - val_binary_crossentropy: 0.6036\n",
      "Epoch 5/10\n",
      "360/360 [==============================] - 2s 4ms/step - loss: 0.6028 - accuracy: 0.6741 - AUC: 0.7367 - binary_crossentropy: 0.6028 - val_loss: 0.5952 - val_accuracy: 0.6783 - val_AUC: 0.7468 - val_binary_crossentropy: 0.5952\n",
      "Epoch 6/10\n",
      "360/360 [==============================] - 2s 4ms/step - loss: 0.5958 - accuracy: 0.6805 - AUC: 0.7451 - binary_crossentropy: 0.5958 - val_loss: 0.5893 - val_accuracy: 0.6840 - val_AUC: 0.7530 - val_binary_crossentropy: 0.5893\n",
      "Epoch 7/10\n",
      "360/360 [==============================] - 2s 5ms/step - loss: 0.5907 - accuracy: 0.6848 - AUC: 0.7507 - binary_crossentropy: 0.5907 - val_loss: 0.5851 - val_accuracy: 0.6877 - val_AUC: 0.7572 - val_binary_crossentropy: 0.5851\n",
      "Epoch 8/10\n",
      "360/360 [==============================] - 2s 4ms/step - loss: 0.5868 - accuracy: 0.6882 - AUC: 0.7549 - binary_crossentropy: 0.5868 - val_loss: 0.5814 - val_accuracy: 0.6924 - val_AUC: 0.7609 - val_binary_crossentropy: 0.5814\n",
      "Epoch 9/10\n",
      "360/360 [==============================] - 2s 4ms/step - loss: 0.5835 - accuracy: 0.6910 - AUC: 0.7583 - binary_crossentropy: 0.5835 - val_loss: 0.5783 - val_accuracy: 0.6946 - val_AUC: 0.7639 - val_binary_crossentropy: 0.5783\n",
      "Epoch 10/10\n",
      "360/360 [==============================] - 2s 4ms/step - loss: 0.5806 - accuracy: 0.6934 - AUC: 0.7612 - binary_crossentropy: 0.5806 - val_loss: 0.5756 - val_accuracy: 0.6963 - val_AUC: 0.7665 - val_binary_crossentropy: 0.5756\n",
      "\n",
      "AUC score: 0.7389516046270695\n"
     ]
    },
    {
     "data": {
      "image/png": "[encoded data removed]",
      "text/plain": [
       "<Figure size 432x432 with 1 Axes>"
      ]
     },
     "metadata": {
      "needs_background": "light"
     },
     "output_type": "display_data"
    },
    {
     "data": {
      "image/png": "[encoded data removed]",
      "text/plain": [
       "<Figure size 432x432 with 1 Axes>"
      ]
     },
     "metadata": {
      "needs_background": "light"
     },
     "output_type": "display_data"
    }
   ],
   "source": [
    "main()"
   ]
  },
  {
   "cell_type": "code",
   "execution_count": null,
   "metadata": {},
   "outputs": [],
   "source": []
  }
 ],
 "metadata": {
  "kernelspec": {
   "display_name": "Python 3",
   "language": "python",
   "name": "python3"
  },
  "language_info": {
   "codemirror_mode": {
    "name": "ipython",
    "version": 3
   },
   "file_extension": ".py",
   "mimetype": "text/x-python",
   "name": "python",
   "nbconvert_exporter": "python",
   "pygments_lexer": "ipython3",
   "version": "3.7.5"
  }
 },
 "nbformat": 4,
 "nbformat_minor": 4
}
